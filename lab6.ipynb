{
 "cells": [
  {
   "cell_type": "code",
   "execution_count": 1,
   "metadata": {},
   "outputs": [],
   "source": [
    "%matplotlib inline\n",
    "import numpy as np\n",
    "import cv2\n",
    "import matplotlib.pyplot as plt"
   ]
  },
  {
   "cell_type": "code",
   "execution_count": 11,
   "metadata": {},
   "outputs": [],
   "source": [
    "def get_frames(videofile, verbose = False):\n",
    "    def decode_fourcc(v):\n",
    "        v = int(v)\n",
    "        return \"\".join([chr((v >> 8 * i) & 0xFF) for i in range(4)])\n",
    "\n",
    "    cap = cv2.VideoCapture(videofile)\n",
    "    frames = []\n",
    "    while True:\n",
    "        # ret is boolean and equals True iff current frame was read successfully\n",
    "        # frame is numpy.ndarray\n",
    "        ret, frame = cap.read()\n",
    "        if not ret:\n",
    "            break\n",
    "        frame = cv2.cvtColor(frame, cv2.COLOR_RGB2GRAY)\n",
    "        frames.append(frame)\n",
    "    w = int(cap.get(cv2.CAP_PROP_FRAME_WIDTH))\n",
    "    h = int(cap.get(cv2.CAP_PROP_FRAME_HEIGHT))\n",
    "    fps = int(cap.get(cv2.CAP_PROP_FPS))\n",
    "    codec = int(cap.get(cv2.CAP_PROP_FOURCC))\n",
    "    if verbose:\n",
    "        print('Number of frames:', len(frames))\n",
    "        print('Frame size: {} x {}'.format(w, h))    # frame.shape == (n, m)\n",
    "        print('Frame rate:', fps)\n",
    "        print('Codec:', decode_fourcc(codec))\n",
    "    cap.release()\n",
    "    return frames, {'shape': (w,h), 'fps': fps, 'codec': codec}\n",
    "\n",
    "\n",
    "def show_frame(frame):\n",
    "    plt.imshow(frame, cmap='gray')\n",
    "    plt.show()\n",
    "\n",
    "\n",
    "def play_video(videofile):\n",
    "    cap = cv2.VideoCapture(videofile)\n",
    "    m = int(cap.get(cv2.CAP_PROP_FRAME_WIDTH))\n",
    "    n = int(cap.get(cv2.CAP_PROP_FRAME_HEIGHT))\n",
    "    cv2.namedWindow('video', cv2.WINDOW_NORMAL)\n",
    "    cv2.resizeWindow('video', m//2, n//2)\n",
    "    while True:\n",
    "        ret, frame = cap.read()\n",
    "        if not ret:\n",
    "            break\n",
    "        gray_frame = cv2.cvtColor(frame, cv2.COLOR_RGB2GRAY)\n",
    "        cv2.imshow('video', gray_frame)\n",
    "        # 100 ~ timeout between consecutive frames\n",
    "        # q is the keyboard button used to close the window\n",
    "        if cv2.waitKey(100) & 0xFF == ord('q'):\n",
    "            break\n",
    "    cap.release()\n",
    "    cv2.destroyAllWindows()\n",
    "\n",
    "\n",
    "def make_video(frames, filename, desc):\n",
    "    video = cv2.VideoWriter(filename, -1, desc['fps'], desc['shape'])\n",
    "    for x in frames:\n",
    "        video.write(x)\n",
    "    video.release()"
   ]
  },
  {
   "cell_type": "code",
   "execution_count": null,
   "metadata": {},
   "outputs": [
    {
     "name": "stdout",
     "output_type": "stream",
     "text": [
      "Number of frames: 66\n",
      "Frame size: 1920 x 1080\n",
      "Frame rate: 30\n",
      "Codec: avc1\n"
     ]
    }
   ],
   "source": [
    "videofile = 'V80420-163103.mp4'\n",
    "frames, desc = get_frames(videofile, verbose = True);\n",
    "#play_video(videofile)\n",
    "make_video(frames, 'newvideo.avi', desc)"
   ]
  },
  {
   "cell_type": "code",
   "execution_count": null,
   "metadata": {},
   "outputs": [],
   "source": []
  }
 ],
 "metadata": {
  "kernelspec": {
   "display_name": "Python 3",
   "language": "python",
   "name": "python3"
  },
  "language_info": {
   "codemirror_mode": {
    "name": "ipython",
    "version": 3
   },
   "file_extension": ".py",
   "mimetype": "text/x-python",
   "name": "python",
   "nbconvert_exporter": "python",
   "pygments_lexer": "ipython3",
   "version": "3.5.5"
  },
  "widgets": {
   "state": {},
   "version": "1.1.2"
  }
 },
 "nbformat": 4,
 "nbformat_minor": 2
}
